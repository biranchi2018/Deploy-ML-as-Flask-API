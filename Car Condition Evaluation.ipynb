{
 "cells": [
  {
   "cell_type": "markdown",
   "metadata": {},
   "source": [
    "# Worflow:\n",
    "- Read dataset.\n",
    "- Preprocessing.\n",
    "- Splitting the dataset.\n",
    "- Training a Decision Tree model & Random forest.\n",
    "- Choose one mode for deployment.\n",
    "- Creating persistent model."
   ]
  },
  {
   "cell_type": "markdown",
   "metadata": {},
   "source": [
    "**We have a dataset that has feautres of cars and their condition, we are building and deploying a classifier that predict the car condition**"
   ]
  },
  {
   "cell_type": "code",
   "execution_count": 13,
   "metadata": {},
   "outputs": [
    {
     "data": {
      "text/html": [
       "<div>\n",
       "<style scoped>\n",
       "    .dataframe tbody tr th:only-of-type {\n",
       "        vertical-align: middle;\n",
       "    }\n",
       "\n",
       "    .dataframe tbody tr th {\n",
       "        vertical-align: top;\n",
       "    }\n",
       "\n",
       "    .dataframe thead th {\n",
       "        text-align: right;\n",
       "    }\n",
       "</style>\n",
       "<table border=\"1\" class=\"dataframe\">\n",
       "  <thead>\n",
       "    <tr style=\"text-align: right;\">\n",
       "      <th></th>\n",
       "      <th>Buying</th>\n",
       "      <th>Maint</th>\n",
       "      <th>doors</th>\n",
       "      <th>persons</th>\n",
       "      <th>lug-boot</th>\n",
       "      <th>safety</th>\n",
       "      <th>target</th>\n",
       "    </tr>\n",
       "  </thead>\n",
       "  <tbody>\n",
       "    <tr>\n",
       "      <th>0</th>\n",
       "      <td>vhigh</td>\n",
       "      <td>vhigh</td>\n",
       "      <td>2</td>\n",
       "      <td>2</td>\n",
       "      <td>small</td>\n",
       "      <td>low</td>\n",
       "      <td>unacc</td>\n",
       "    </tr>\n",
       "    <tr>\n",
       "      <th>1</th>\n",
       "      <td>vhigh</td>\n",
       "      <td>vhigh</td>\n",
       "      <td>2</td>\n",
       "      <td>2</td>\n",
       "      <td>small</td>\n",
       "      <td>med</td>\n",
       "      <td>unacc</td>\n",
       "    </tr>\n",
       "    <tr>\n",
       "      <th>2</th>\n",
       "      <td>vhigh</td>\n",
       "      <td>vhigh</td>\n",
       "      <td>2</td>\n",
       "      <td>2</td>\n",
       "      <td>small</td>\n",
       "      <td>high</td>\n",
       "      <td>unacc</td>\n",
       "    </tr>\n",
       "    <tr>\n",
       "      <th>3</th>\n",
       "      <td>vhigh</td>\n",
       "      <td>vhigh</td>\n",
       "      <td>2</td>\n",
       "      <td>2</td>\n",
       "      <td>med</td>\n",
       "      <td>low</td>\n",
       "      <td>unacc</td>\n",
       "    </tr>\n",
       "    <tr>\n",
       "      <th>4</th>\n",
       "      <td>vhigh</td>\n",
       "      <td>vhigh</td>\n",
       "      <td>2</td>\n",
       "      <td>2</td>\n",
       "      <td>med</td>\n",
       "      <td>med</td>\n",
       "      <td>unacc</td>\n",
       "    </tr>\n",
       "  </tbody>\n",
       "</table>\n",
       "</div>"
      ],
      "text/plain": [
       "  Buying  Maint doors persons lug-boot safety target\n",
       "0  vhigh  vhigh     2       2    small    low  unacc\n",
       "1  vhigh  vhigh     2       2    small    med  unacc\n",
       "2  vhigh  vhigh     2       2    small   high  unacc\n",
       "3  vhigh  vhigh     2       2      med    low  unacc\n",
       "4  vhigh  vhigh     2       2      med    med  unacc"
      ]
     },
     "execution_count": 13,
     "metadata": {},
     "output_type": "execute_result"
    }
   ],
   "source": [
    "import numpy as np\n",
    "import pandas as pd\n",
    "from sklearn.cross_validation import train_test_split\n",
    "from sklearn.tree import DecisionTreeClassifier\n",
    "from sklearn.metrics import accuracy_score\n",
    "from sklearn import tree\n",
    "from sklearn.externals import joblib\n",
    "from sklearn.ensemble import RandomForestClassifier\n",
    "\n",
    "\n",
    "data = pd.read_csv('car.data.txt', names=['Buying', 'Maint','doors', 'persons','lug-boot','safety','target'])\n",
    "data.head()"
   ]
  },
  {
   "cell_type": "code",
   "execution_count": 14,
   "metadata": {},
   "outputs": [
    {
     "data": {
      "text/plain": [
       "array(['unacc', 'acc', 'vgood', 'good'], dtype=object)"
      ]
     },
     "execution_count": 14,
     "metadata": {},
     "output_type": "execute_result"
    }
   ],
   "source": [
    "# target is our label column, let's check it out\n",
    "data['target'].unique()"
   ]
  },
  {
   "cell_type": "markdown",
   "metadata": {},
   "source": [
    "**As you see the car condition has ne of the four categorise**"
   ]
  },
  {
   "cell_type": "code",
   "execution_count": 15,
   "metadata": {},
   "outputs": [
    {
     "name": "stdout",
     "output_type": "stream",
     "text": [
      "<class 'pandas.core.frame.DataFrame'>\n",
      "RangeIndex: 1728 entries, 0 to 1727\n",
      "Data columns (total 7 columns):\n",
      "Buying      1728 non-null object\n",
      "Maint       1728 non-null object\n",
      "doors       1728 non-null object\n",
      "persons     1728 non-null object\n",
      "lug-boot    1728 non-null object\n",
      "safety      1728 non-null object\n",
      "target      1728 non-null object\n",
      "dtypes: object(7)\n",
      "memory usage: 94.6+ KB\n"
     ]
    }
   ],
   "source": [
    "data.info()"
   ]
  },
  {
   "cell_type": "markdown",
   "metadata": {},
   "source": [
    "**Most of the columns are categorical or have string data type, we need to transform them into numeric**"
   ]
  },
  {
   "cell_type": "code",
   "execution_count": 16,
   "metadata": {},
   "outputs": [],
   "source": [
    "# tranformation functions\n",
    "def Trans_Buying(x):\n",
    "    \n",
    "    if x== 'vhigh': \n",
    "        return 0\n",
    "    if x=='high':\n",
    "        return 1\n",
    "    if x== 'med':\n",
    "        return 2\n",
    "    if x == 'low':\n",
    "        return 3 \n",
    "\n",
    "def Trans_Maint(x):\n",
    "    \n",
    "    if x== 'vhigh': \n",
    "        return 0\n",
    "    if x=='high':\n",
    "        return 1\n",
    "    if x== 'med':\n",
    "        return 2\n",
    "    if x == 'low':\n",
    "        return 3 \n",
    "\n",
    "def Trans_doors(x):\n",
    "    \n",
    "    if x== '2': \n",
    "        return 0\n",
    "    if x=='3':\n",
    "        return 1\n",
    "    if x== '4':\n",
    "        return 2\n",
    "    if x == '5more':\n",
    "        return 3 \n",
    "\n",
    "def Trans_persons(x):\n",
    "    \n",
    "    if x== '2': \n",
    "        return 0\n",
    "    if x=='4':\n",
    "        return 1\n",
    "    if x== 'more':\n",
    "        return 2\n",
    "   \n",
    "def Trans_lug_boot(x):\n",
    "    \n",
    "    if x== 'small': \n",
    "        return 0\n",
    "    if x=='med':\n",
    "        return 1\n",
    "    if x== 'big':\n",
    "        return 2\n",
    "   \n",
    "\n",
    "def Trans_safety(x):\n",
    "    \n",
    "    if x== 'low': \n",
    "        return 0\n",
    "    if x=='med':\n",
    "        return 1\n",
    "    if x== 'high':\n",
    "        return 2\n",
    "   \n",
    "\n",
    "def Trans_target(x):\n",
    "    \n",
    "    if x == 'unacc':\n",
    "        return 0\n",
    "    if x == 'acc':\n",
    "        return 1\n",
    "    if x == 'vgood':\n",
    "        return 2\n",
    "    if x == 'good':\n",
    "        return 3\n",
    "\n",
    "    \n",
    "    \n",
    "# let's use apply method to make the transformation    \n",
    "  \n",
    "data['Buying']=data['Buying'].apply(Trans_Buying)\n",
    "data['Maint']=data['Maint'].apply(Trans_Maint)\n",
    "data['doors']=data['doors'].apply(Trans_doors)\n",
    "data['persons']=data['persons'].apply(Trans_persons)\n",
    "data['lug-boot']=data['lug-boot'].apply(Trans_lug_boot)\n",
    "data['safety']=data['safety'].apply(Trans_safety)\n",
    "data['target'] = data['target'].apply(Trans_target)"
   ]
  },
  {
   "cell_type": "code",
   "execution_count": 17,
   "metadata": {},
   "outputs": [
    {
     "name": "stdout",
     "output_type": "stream",
     "text": [
      "<class 'pandas.core.frame.DataFrame'>\n",
      "RangeIndex: 1728 entries, 0 to 1727\n",
      "Data columns (total 7 columns):\n",
      "Buying      1728 non-null int64\n",
      "Maint       1728 non-null int64\n",
      "doors       1728 non-null int64\n",
      "persons     1728 non-null int64\n",
      "lug-boot    1728 non-null int64\n",
      "safety      1728 non-null int64\n",
      "target      1728 non-null int64\n",
      "dtypes: int64(7)\n",
      "memory usage: 94.6 KB\n"
     ]
    }
   ],
   "source": [
    "#observe the data type here\n",
    "data.info()"
   ]
  },
  {
   "cell_type": "code",
   "execution_count": 18,
   "metadata": {},
   "outputs": [
    {
     "data": {
      "text/html": [
       "<div>\n",
       "<style scoped>\n",
       "    .dataframe tbody tr th:only-of-type {\n",
       "        vertical-align: middle;\n",
       "    }\n",
       "\n",
       "    .dataframe tbody tr th {\n",
       "        vertical-align: top;\n",
       "    }\n",
       "\n",
       "    .dataframe thead th {\n",
       "        text-align: right;\n",
       "    }\n",
       "</style>\n",
       "<table border=\"1\" class=\"dataframe\">\n",
       "  <thead>\n",
       "    <tr style=\"text-align: right;\">\n",
       "      <th></th>\n",
       "      <th>Buying</th>\n",
       "      <th>Maint</th>\n",
       "      <th>doors</th>\n",
       "      <th>persons</th>\n",
       "      <th>lug-boot</th>\n",
       "      <th>safety</th>\n",
       "      <th>target</th>\n",
       "    </tr>\n",
       "  </thead>\n",
       "  <tbody>\n",
       "    <tr>\n",
       "      <th>0</th>\n",
       "      <td>0</td>\n",
       "      <td>0</td>\n",
       "      <td>0</td>\n",
       "      <td>0</td>\n",
       "      <td>0</td>\n",
       "      <td>0</td>\n",
       "      <td>0</td>\n",
       "    </tr>\n",
       "    <tr>\n",
       "      <th>1</th>\n",
       "      <td>0</td>\n",
       "      <td>0</td>\n",
       "      <td>0</td>\n",
       "      <td>0</td>\n",
       "      <td>0</td>\n",
       "      <td>1</td>\n",
       "      <td>0</td>\n",
       "    </tr>\n",
       "    <tr>\n",
       "      <th>2</th>\n",
       "      <td>0</td>\n",
       "      <td>0</td>\n",
       "      <td>0</td>\n",
       "      <td>0</td>\n",
       "      <td>0</td>\n",
       "      <td>2</td>\n",
       "      <td>0</td>\n",
       "    </tr>\n",
       "    <tr>\n",
       "      <th>3</th>\n",
       "      <td>0</td>\n",
       "      <td>0</td>\n",
       "      <td>0</td>\n",
       "      <td>0</td>\n",
       "      <td>1</td>\n",
       "      <td>0</td>\n",
       "      <td>0</td>\n",
       "    </tr>\n",
       "    <tr>\n",
       "      <th>4</th>\n",
       "      <td>0</td>\n",
       "      <td>0</td>\n",
       "      <td>0</td>\n",
       "      <td>0</td>\n",
       "      <td>1</td>\n",
       "      <td>1</td>\n",
       "      <td>0</td>\n",
       "    </tr>\n",
       "  </tbody>\n",
       "</table>\n",
       "</div>"
      ],
      "text/plain": [
       "   Buying  Maint  doors  persons  lug-boot  safety  target\n",
       "0       0      0      0        0         0       0       0\n",
       "1       0      0      0        0         0       1       0\n",
       "2       0      0      0        0         0       2       0\n",
       "3       0      0      0        0         1       0       0\n",
       "4       0      0      0        0         1       1       0"
      ]
     },
     "execution_count": 18,
     "metadata": {},
     "output_type": "execute_result"
    }
   ],
   "source": [
    "data.head()"
   ]
  },
  {
   "cell_type": "code",
   "execution_count": 35,
   "metadata": {},
   "outputs": [
    {
     "data": {
      "text/html": [
       "<div>\n",
       "<style scoped>\n",
       "    .dataframe tbody tr th:only-of-type {\n",
       "        vertical-align: middle;\n",
       "    }\n",
       "\n",
       "    .dataframe tbody tr th {\n",
       "        vertical-align: top;\n",
       "    }\n",
       "\n",
       "    .dataframe thead th {\n",
       "        text-align: right;\n",
       "    }\n",
       "</style>\n",
       "<table border=\"1\" class=\"dataframe\">\n",
       "  <thead>\n",
       "    <tr style=\"text-align: right;\">\n",
       "      <th></th>\n",
       "      <th>Buying</th>\n",
       "      <th>Maint</th>\n",
       "      <th>doors</th>\n",
       "      <th>persons</th>\n",
       "      <th>lug-boot</th>\n",
       "      <th>safety</th>\n",
       "      <th>target</th>\n",
       "    </tr>\n",
       "  </thead>\n",
       "  <tbody>\n",
       "    <tr>\n",
       "      <th>1723</th>\n",
       "      <td>3</td>\n",
       "      <td>3</td>\n",
       "      <td>3</td>\n",
       "      <td>2</td>\n",
       "      <td>1</td>\n",
       "      <td>1</td>\n",
       "      <td>3</td>\n",
       "    </tr>\n",
       "    <tr>\n",
       "      <th>1724</th>\n",
       "      <td>3</td>\n",
       "      <td>3</td>\n",
       "      <td>3</td>\n",
       "      <td>2</td>\n",
       "      <td>1</td>\n",
       "      <td>2</td>\n",
       "      <td>2</td>\n",
       "    </tr>\n",
       "    <tr>\n",
       "      <th>1725</th>\n",
       "      <td>3</td>\n",
       "      <td>3</td>\n",
       "      <td>3</td>\n",
       "      <td>2</td>\n",
       "      <td>2</td>\n",
       "      <td>0</td>\n",
       "      <td>0</td>\n",
       "    </tr>\n",
       "    <tr>\n",
       "      <th>1726</th>\n",
       "      <td>3</td>\n",
       "      <td>3</td>\n",
       "      <td>3</td>\n",
       "      <td>2</td>\n",
       "      <td>2</td>\n",
       "      <td>1</td>\n",
       "      <td>3</td>\n",
       "    </tr>\n",
       "    <tr>\n",
       "      <th>1727</th>\n",
       "      <td>3</td>\n",
       "      <td>3</td>\n",
       "      <td>3</td>\n",
       "      <td>2</td>\n",
       "      <td>2</td>\n",
       "      <td>2</td>\n",
       "      <td>2</td>\n",
       "    </tr>\n",
       "  </tbody>\n",
       "</table>\n",
       "</div>"
      ],
      "text/plain": [
       "      Buying  Maint  doors  persons  lug-boot  safety  target\n",
       "1723       3      3      3        2         1       1       3\n",
       "1724       3      3      3        2         1       2       2\n",
       "1725       3      3      3        2         2       0       0\n",
       "1726       3      3      3        2         2       1       3\n",
       "1727       3      3      3        2         2       2       2"
      ]
     },
     "execution_count": 35,
     "metadata": {},
     "output_type": "execute_result"
    }
   ],
   "source": [
    "data.tail()"
   ]
  },
  {
   "cell_type": "markdown",
   "metadata": {},
   "source": [
    "# Building the model and traing"
   ]
  },
  {
   "cell_type": "code",
   "execution_count": 6,
   "metadata": {},
   "outputs": [],
   "source": [
    "# let's split data nto training and testing\n",
    "feature_columns = ['Buying', 'Maint','doors', 'persons','lug-boot','safety']\n",
    "\n",
    "labels = data[\"target\"].values\n",
    "features = data[list(feature_columns)].values\n",
    "\n",
    "X_train, X_test, y_train, y_test = train_test_split(features, labels, test_size=0.3, random_state=42)"
   ]
  },
  {
   "cell_type": "markdown",
   "metadata": {},
   "source": [
    "### Random Forest Classifier"
   ]
  },
  {
   "cell_type": "code",
   "execution_count": 9,
   "metadata": {},
   "outputs": [
    {
     "name": "stdout",
     "output_type": "stream",
     "text": [
      "Score on the training set is: 0.9966914805624483\n",
      "Score on the test set is: 0.95\n"
     ]
    }
   ],
   "source": [
    "RFC = RandomForestClassifier(random_state=101)\n",
    "RFC.fit(X_train, y_train)\n",
    "\n",
    "print(\"Score on the training set is: {:2}\"\n",
    "      .format(RFC.score(X_train, y_train)))\n",
    "print(\"Score on the test set is: {:.2}\"\n",
    "      .format(RFC.score(X_test, y_test)))"
   ]
  },
  {
   "cell_type": "markdown",
   "metadata": {},
   "source": [
    "### Decision Tree Classifier"
   ]
  },
  {
   "cell_type": "code",
   "execution_count": 10,
   "metadata": {},
   "outputs": [
    {
     "name": "stdout",
     "output_type": "stream",
     "text": [
      "Score on the training set is: 1.0\n",
      "Score on the test set is: 0.97\n"
     ]
    }
   ],
   "source": [
    "DTC = tree.DecisionTreeClassifier(criterion = 'entropy')\n",
    "DTC.fit(X_train, y_train)\n",
    "\n",
    "print(\"Score on the training set is: {:2}\"\n",
    "      .format(DTC.score(X_train, y_train)))\n",
    "print(\"Score on the test set is: {:.2}\"\n",
    "      .format(DTC.score(X_test, y_test)))"
   ]
  },
  {
   "cell_type": "markdown",
   "metadata": {},
   "source": [
    "### Both models have a reall good performance, let's export the DTC model."
   ]
  },
  {
   "cell_type": "code",
   "execution_count": 11,
   "metadata": {},
   "outputs": [
    {
     "name": "stdout",
     "output_type": "stream",
     "text": [
      "Model exported to carDTC.pkl...\n"
     ]
    },
    {
     "data": {
      "text/plain": [
       "['carDTC.pkl']"
      ]
     },
     "execution_count": 11,
     "metadata": {},
     "output_type": "execute_result"
    }
   ],
   "source": [
    "# Create persistent model\n",
    "model_filename = 'carDTC.pkl'\n",
    "print(\"Model exported to {}...\".format(model_filename))\n",
    "joblib.dump(DTC, model_filename)"
   ]
  },
  {
   "cell_type": "markdown",
   "metadata": {},
   "source": [
    "# Now let's create a simple flask app for our API"
   ]
  },
  {
   "cell_type": "markdown",
   "metadata": {},
   "source": [
    "**the following script must be saved into a .py file out of this notebook**\n",
    "\n",
    "**Open a text editor follow up**"
   ]
  },
  {
   "cell_type": "code",
   "execution_count": 20,
   "metadata": {},
   "outputs": [],
   "source": [
    "# importing the libraries\n",
    "from flask import Flask, request, jsonify\n",
    "from sklearn.externals import joblib\n",
    "\n",
    "#Creating our FlaskAPP\n",
    "app = Flask(__name__)\n",
    "\n",
    "# Load the model\n",
    "MODEL = joblib.load('carDTC.pkl')\n",
    "MODEL_LABELS = ['unacc', 'acc', 'vgood', 'good']\n"
   ]
  },
  {
   "cell_type": "markdown",
   "metadata": {},
   "source": [
    "# Creating the endpoint here called predict\n",
    "- first it handles the input from the call.\n",
    "- then making the input into one list.\n",
    "- finally pass them to the model for prediction\n",
    "- at the end we return to the suer the result in JSON"
   ]
  },
  {
   "cell_type": "code",
   "execution_count": null,
   "metadata": {},
   "outputs": [],
   "source": [
    "\n",
    "@app.route('/predict')\n",
    "def predict():\n",
    "    # Retrieve query parameters related to this request.\n",
    "    Buying = request.args.get('Buying')\n",
    "    Maint = request.args.get('Maint')\n",
    "    doors = request.args.get('doors')\n",
    "    persons = requests.args.get('persons')\n",
    "    lug_boot = request.args.get('lug_boot')\n",
    "    safety = request.args.get('safety')\n",
    "\n",
    "    # Our model expects a list of records\n",
    "    features = [[Buying, Maint, doors, persons, lug_boot, safety]]\n",
    "\n",
    "\n",
    "    # predict the class and probability of the class\n",
    "    label_index = MODEL.predict(features)\n",
    "    label_conf = MODEL.predict_proba(features)\n",
    "\n",
    "    # Retrieve the name of the predicted class\n",
    "    label = MODEL_LABELS[label_index[0]]\n",
    "\n",
    "    # Create and send a response to the API caller\n",
    "    return jsonify(status='complete', label=label,  label_conf = ''.join(str(label_conf)))\n",
    "\n",
    "\n",
    "\n",
    "if __name__ == '__main__':\n",
    "    app.run(debug=True)"
   ]
  },
  {
   "cell_type": "markdown",
   "metadata": {},
   "source": [
    "# After you are done with scripting you API, fire it up by writing the followin command on your shell\n",
    "\n",
    "python filename.py"
   ]
  },
  {
   "cell_type": "markdown",
   "metadata": {},
   "source": [
    "**this will fire your application and it will be ready to recieve http requests so try the following request in your browser**"
   ]
  },
  {
   "cell_type": "markdown",
   "metadata": {},
   "source": [
    "http://127.0.0.1:5000/predict?Buying=1&Maint=1&doors=1&persons=1&lug_boot=1&safety=1"
   ]
  },
  {
   "cell_type": "markdown",
   "metadata": {},
   "source": [
    "Observe the response, try to change the values of each parameter and see how it makes different prediction from your model\n"
   ]
  },
  {
   "cell_type": "code",
   "execution_count": 37,
   "metadata": {},
   "outputs": [
    {
     "name": "stdout",
     "output_type": "stream",
     "text": [
      "{\n",
      "  \"Prediction\": \"Unacceptable\", \n",
      "  \"confidence\": \"[[1. 0. 0. 0.]]\", \n",
      "  \"probabilities\": \" Unacceptable = 1.0, Acceptable = 0.0, Very Good = 0.0, Good = 0.0\", \n",
      "  \"status\": \"complete\"\n",
      "}\n",
      "\n"
     ]
    }
   ],
   "source": [
    "import requests\n",
    "response = requests.get('http://127.0.0.1:5000/predict?Buying=1&Maint=1&doors=1&persons=1&lug_boot=1&safety=1')\n",
    "print(response.text)"
   ]
  },
  {
   "cell_type": "code",
   "execution_count": null,
   "metadata": {},
   "outputs": [],
   "source": []
  }
 ],
 "metadata": {
  "kernelspec": {
   "display_name": "Python 3",
   "language": "python",
   "name": "python3"
  },
  "language_info": {
   "codemirror_mode": {
    "name": "ipython",
    "version": 3
   },
   "file_extension": ".py",
   "mimetype": "text/x-python",
   "name": "python",
   "nbconvert_exporter": "python",
   "pygments_lexer": "ipython3",
   "version": "3.7.0"
  }
 },
 "nbformat": 4,
 "nbformat_minor": 2
}
